{
 "cells": [
  {
   "cell_type": "markdown",
   "id": "eb141797-f057-4558-a52f-6a0dc3f01946",
   "metadata": {},
   "source": [
    "# Digit Classification with Keras\n",
    "The goal of this notebook is to become familiar with deep neural networks and the high level Keras package. We will do so through working with one of the most classic examples of the strength of neural networks: handwritten digit classification. Parsing handwriting is a notoriously difficult task for traditional algorithms that has been made significantly easier thanks to modern deep neural networks. The following is a modification of a jupyter notebook developed for BU Physics professor Pankaj Mehta's course on ML for physicists (https://github.com/drckf/mlreview_notebooks/blob/master/jupyter_notebooks/notebooks/NB11_CIX-DNN_mnist_Keras.ipynb).\n",
    "\n",
    "In this notebook we will be contructing a neural network that is capable of distinguishing between the ten handwritten digits 0-9. This is what is known in ML parlance as a *classification task*, as the model's goal is to pick a discrete label when given some input. This is distinct from a *regression task*, which is when the model's goal is to produce some analog value when given an input. Certain netowrk architectures are more suited for one task over another, so it's important to be mindful of your task throughout the entire process (more on this later).\n",
    "\n",
    "In general, constructing a neural network to solve some data science problem is a multi-step process that roughly follows this order:\n",
    "\n",
    "0. Set up your environment\n",
    "1. Load, inspect, and process the data\n",
    "2. Define the model, its architecture, and its loss function\n",
    "3. Train the model\n",
    "4. Evaluate the model on data it hasn't seen (validation/test data)\n",
    "5. Modify the model to optimize performance (iterating 2-4)\n",
    "\n",
    "We don't have the time to do a robust job with step 5, but we'll do a little bit to show how making structural changes to a model can affect its performance."
   ]
  },
  {
   "cell_type": "markdown",
   "id": "7d6ba5c8-2c9e-4e43-b2bb-f78c90620bba",
   "metadata": {},
   "source": [
    "## Step 0: Set Up Your Environment\n",
    "Before we do anything else, we need to import the packages and modules we're going to use, as well as set up parts of our environment. In particular, we'll fix our random seed so we all get the same results every time."
   ]
  },
  {
   "cell_type": "code",
   "execution_count": 1,
   "id": "df526660-c3b6-40ea-99da-31953d692270",
   "metadata": {},
   "outputs": [],
   "source": [
    "import tensorflow as tf\n",
    "from tensorflow import keras as ks\n",
    "\n",
    "import numpy as np\n",
    "seed = 8\n",
    "np.random.seed(seed) # fix random seed in numpy\n",
    "tf.random.set_seed(seed) # fix random seed in tensorflow\n",
    "\n",
    "import matplotlib.pyplot as plt"
   ]
  },
  {
   "cell_type": "markdown",
   "id": "8b50dbde-791a-43a0-b147-52e0bbf51718",
   "metadata": {},
   "source": [
    "## Step 1: Load, Inspect, and Process the Data\n",
    "Keras conveniently comes with tools to download a number of datasets built in. We will be using the MNIST dataset today. The MNIST dataset comprises $70000$ handwritten digits, each of which comes in a square image, divided into a $28\\times 28$ pixel grid. Every pixel can take on $256$ values of the gray color, and hence each data point assumes any value in the set $\\{0,1,\\dots,255\\}$. Our intuition about the problem tells us that there are $10$ categories, so in ML jargon this is a *generic classification task with ten labels*.\n",
    "\n",
    "To download the MNIST dataset, use the `load_data()` class from keras's `mnist` module to create the training and test data automatically. X refers to the input data (images of written digits), and Y refers to the target data (labels of each image). Once we load in the data, we want to rescale it so that instead of the hue value of each pixel being an integer in $\\{0,1,\\dots,255\\}$, the hue value of each pixel is a decimal in $[0,1]$. In general, neural networks can experience problems if there are large variations between the minimum and maximum values of each feature, so it is considered best practice to scale data to a small interval. We also cast the labels from integer form (e.g. 5) to \"one-hot\" vectors (e.g. $[0,0,0,0,0,1,0,0,0,0]$), which makes it easier for the model to distinguish between classes."
   ]
  },
  {
   "cell_type": "code",
   "execution_count": 2,
   "id": "5c39f381-5065-4c25-b32d-4a154fbea6ad",
   "metadata": {},
   "outputs": [
    {
     "name": "stdout",
     "output_type": "stream",
     "text": [
      "Data point with label 4 :\n"
     ]
    },
    {
     "data": {
      "image/png": "[encoded data removed]",
      "text/plain": [
       "<Figure size 288x288 with 1 Axes>"
      ]
     },
     "metadata": {
      "needs_background": "light"
     },
     "output_type": "display_data"
    },
    {
     "name": "stdout",
     "output_type": "stream",
     "text": [
      "One-hot label representation: [0. 0. 0. 0. 1. 0. 0. 0. 0. 0.]\n"
     ]
    }
   ],
   "source": [
    "# Download the data, which comes pre-split between train and test datasets\n",
    "(X_train, Y_train), (X_test, Y_test) = ks.datasets.mnist.load_data()\n",
    "\n",
    "# Cast floats to single precesion\n",
    "X_train = X_train.astype('float32')\n",
    "X_test = X_test.astype('float32')\n",
    "\n",
    "# Rescale data in interval [0,1]\n",
    "X_train /= 255\n",
    "X_test /= 255\n",
    "\n",
    "# Look at an example of data point\n",
    "print('Data point with label', Y_train[2], ':')\n",
    "plt.matshow(X_train[2],cmap = 'binary')\n",
    "plt.show()\n",
    "\n",
    "# Convert labels from numerical to vector (a.k.a. one-hot)\n",
    "Y_train = ks.utils.to_categorical(Y_train, 10) #specify that there are ten classes!\n",
    "Y_test = ks.utils.to_categorical(Y_test, 10)\n",
    "print('One-hot label representation:', Y_train[20])"
   ]
  },
  {
   "cell_type": "markdown",
   "id": "1e5d6614-78ff-493e-842d-b55cefc8f163",
   "metadata": {},
   "source": [
    "## Step 2: Define the Model, its Architecture, and its Loss Function\n",
    "Making deep neural nets in Keras is easy thanks to Keras's `Sequential()` class, which allows the user to build deep neural networks layer by layer through a sequence of `keras.Layers` classes. Fully-connected neuron layers are known as `Dense()` layers, which accept as arguments an integer number of neurons and a type of activation function. Even more complicated layers, such as convolutional layers for 2D inputs or recurrent layers for series inputs, are all handled using this class structure. `keras.Layers` classes can also perform operations that are not strictly collections of neurons, such as the `Dropout()` layer that drops some fraction of the prior layer during training, or the `Flatten()` layer that converts its input from 2/3D to 1D. It is important to specify the input shape in the first layer and the output shape in the last layer, as otherwise we have not provided any information about what shape we expect the data to be. The input/output shapes of all the hidden layers are inferred automatically by Keras.\n",
    "\n",
    "First, let's build the model by starting with an empty `Sequential()` class. For our first model, we'll use a simple fully-connected architecture. This architecture requires its input be one-dimensional, so the first layer will be a `Flatten()` layer with the `input_shape` argument set to `(28,28,)`, or the shape of each image in the MNIST dataset. Then we will add a 400-unit `Dense()` layer followed by a 100-unit `Dense()` layer, both with the RELU activation function (`activation = 'relu'`). Then we specify that 50% of the units in the 100-unit `Dense()` layer should be dropped during training by adding a `Dropout()` layer with a droput rate of 0.5. Finally, we force the last `Dense()` layer to be in the shape of our output by specifying it to be 10 units, and give it the softmax activation function (`activation = 'softmax'`). This function produces some normalized distribution across its outputs. Depending on how we structure the loss criterion, this can easily correspond to the probability that the input corresponds to the label at each index; the argument with the maximum value is the label predicted by the model."
   ]
  },
  {
   "cell_type": "code",
   "execution_count": 3,
   "id": "1714d707-a9ce-4039-85fb-d0ca22324af9",
   "metadata": {},
   "outputs": [],
   "source": [
    "# Initiate the model\n",
    "model = ks.models.Sequential()\n",
    "# Flatten the input image into a 1D vector\n",
    "model.add(ks.layers.Flatten(input_shape = (28,28,)))\n",
    "# Add a fully-connected layer of neurons with RELU activation\n",
    "model.add(ks.layers.Dense(400, activation = 'relu'))\n",
    "# Add another fully-connected layer of neurons with RELU activation\n",
    "model.add(ks.layers.Dense(100, activation = 'relu'))\n",
    "# Apply a 50% droput rate during training\n",
    "model.add(ks.layers.Dropout(0.5))\n",
    "# Add a softmax layer that outputs the predicted class in the shape of the target vectors\n",
    "model.add(ks.layers.Dense(10, activation = 'softmax'))"
   ]
  },
  {
   "cell_type": "markdown",
   "id": "bd40c40b-0853-43ab-a0d9-3bc6e9c4d89e",
   "metadata": {},
   "source": [
    "Now that we have the model's architecture defined, Keras requires that we *compile* the model by specifying its loss criterion and optimizer.\n",
    "\n",
    "A *loss criterion* is the metric by which the model's performance is evaluated; a smaller loss must correspond to better performance. For regression tasks that most of us are used to (think linear regression), we typically use something like a mean squared error. For classification tasks the standard loss is the categorical crossentropy, a measure of how distinguisable two discrete probability distributions are from each other. Mathematically, it is given by $Loss = -y\\cdot log(\\hat{y})$, where $y$ is the target distribution (vector) and $\\hat{y}$ is the model output distribution. The closer the two distributions are to one another, the smaller this criterion is.\n",
    "\n",
    "The *optimizer* is simply the optimization routine used to update the parameters of each layer in the model. Here we use an adaptive optimizer called `Adam()`, which changes its gradient descent rate as it gets closer to the loss's minimum. Choosing an optimizer and its parameters is an important thing to do during hyperparameter tuning, but for simplicity's sake we're using `Adam()` in its default configuration.\n",
    "\n",
    "At compilation, we also specify an optional metric using the `metrics` keyword, in this case `'accuracy'`. The accuracy is simply the percentage of correct predictions the model makes on the training and test sets. We specify this metric since the model's loss criterion is not in units we can intuitively understand, so this metric will help make it more obvious to us if our model is performing well or not during training in the next step."
   ]
  },
  {
   "cell_type": "code",
   "execution_count": 4,
   "id": "092bd0a2-761c-406b-853e-805b1f50d85c",
   "metadata": {},
   "outputs": [
    {
     "name": "stdout",
     "output_type": "stream",
     "text": [
      "Model: \"sequential\"\n",
      "_________________________________________________________________\n",
      "Layer (type)                 Output Shape              Param #   \n",
      "=================================================================\n",
      "flatten (Flatten)            (None, 784)               0         \n",
      "_________________________________________________________________\n",
      "dense (Dense)                (None, 400)               314000    \n",
      "_________________________________________________________________\n",
      "dense_1 (Dense)              (None, 100)               40100     \n",
      "_________________________________________________________________\n",
      "dropout (Dropout)            (None, 100)               0         \n",
      "_________________________________________________________________\n",
      "dense_2 (Dense)              (None, 10)                1010      \n",
      "=================================================================\n",
      "Total params: 355,110\n",
      "Trainable params: 355,110\n",
      "Non-trainable params: 0\n",
      "_________________________________________________________________\n"
     ]
    }
   ],
   "source": [
    "#Compile the model with a loss function, optimization algorithm, and metric to be reported\n",
    "model.compile(loss = ks.losses.categorical_crossentropy, optimizer = tf.optimizers.Adam(), metrics = ['accuracy'])\n",
    "model.summary()"
   ]
  },
  {
   "cell_type": "markdown",
   "id": "134d20a5-1c99-4f5a-8a41-c87a1c266637",
   "metadata": {},
   "source": [
    "## Step 3: Train the model\n",
    "As can be seen from the summary above, each of the layers we included in our model contaion some amount of tunable parameters (Column 3). Training a neural network is the process of optimizing these tuning paramters. As you can see, even ther first `Dense()` layer has about five times more parameters than we have data points in the training set. This results in two things:\n",
    "1. Training is slow! Even though neural networks are popular because finding the gradient over all their parameters is relatively easy, it's still computationally expensive. Finding ways to split up training into batches or picking a more well-optimized architecture are very important.\n",
    "2. Training is dangerous! If you're not careful, your network can become a lookup table of your training set, which results in fantastic performance on your training set and terrible performance on your test set (overfitting). Monitoring the loss on your test set and using normalization/dropout are very important.\n",
    "\n",
    "Training the model is syntactically very easy with Keras. The `Sequential` class has a method `fit()` that trains the model on the specified training input and target datasets. We also specify a mini-batch size (`batch-size`), length of training (`epoch`), and validation data to evaluate the model performance on to monitor for overfitting (`validation_data`)."
   ]
  },
  {
   "cell_type": "code",
   "execution_count": 5,
   "id": "f535940c-6cfa-458d-917f-fdcd8ad25880",
   "metadata": {},
   "outputs": [
    {
     "name": "stdout",
     "output_type": "stream",
     "text": [
      "Epoch 1/15\n",
      "938/938 [==============================] - 4s 4ms/step - loss: 0.5529 - accuracy: 0.8330 - val_loss: 0.1269 - val_accuracy: 0.9610\n",
      "Epoch 2/15\n",
      "938/938 [==============================] - 4s 4ms/step - loss: 0.1400 - accuracy: 0.9604 - val_loss: 0.0941 - val_accuracy: 0.9706\n",
      "Epoch 3/15\n",
      "938/938 [==============================] - 5s 5ms/step - loss: 0.0927 - accuracy: 0.9723 - val_loss: 0.0832 - val_accuracy: 0.9752\n",
      "Epoch 4/15\n",
      "938/938 [==============================] - 5s 5ms/step - loss: 0.0700 - accuracy: 0.9796 - val_loss: 0.0763 - val_accuracy: 0.9776\n",
      "Epoch 5/15\n",
      "938/938 [==============================] - 5s 5ms/step - loss: 0.0550 - accuracy: 0.9831 - val_loss: 0.0718 - val_accuracy: 0.9798\n",
      "Epoch 6/15\n",
      "938/938 [==============================] - 5s 5ms/step - loss: 0.0462 - accuracy: 0.9861 - val_loss: 0.0719 - val_accuracy: 0.9797\n",
      "Epoch 7/15\n",
      "938/938 [==============================] - 5s 5ms/step - loss: 0.0351 - accuracy: 0.9892 - val_loss: 0.0726 - val_accuracy: 0.9799\n",
      "Epoch 8/15\n",
      "938/938 [==============================] - 5s 5ms/step - loss: 0.0322 - accuracy: 0.9888 - val_loss: 0.0796 - val_accuracy: 0.9804\n",
      "Epoch 9/15\n",
      "938/938 [==============================] - 5s 5ms/step - loss: 0.0274 - accuracy: 0.9911 - val_loss: 0.0746 - val_accuracy: 0.9819\n",
      "Epoch 10/15\n",
      "938/938 [==============================] - 5s 5ms/step - loss: 0.0225 - accuracy: 0.9927 - val_loss: 0.0885 - val_accuracy: 0.9794\n",
      "Epoch 11/15\n",
      "938/938 [==============================] - 4s 5ms/step - loss: 0.0226 - accuracy: 0.9924 - val_loss: 0.0712 - val_accuracy: 0.9831\n",
      "Epoch 12/15\n",
      "938/938 [==============================] - 4s 5ms/step - loss: 0.0217 - accuracy: 0.9926 - val_loss: 0.0813 - val_accuracy: 0.9822\n",
      "Epoch 13/15\n",
      "938/938 [==============================] - 5s 5ms/step - loss: 0.0184 - accuracy: 0.9944 - val_loss: 0.0940 - val_accuracy: 0.9820\n",
      "Epoch 14/15\n",
      "938/938 [==============================] - 4s 5ms/step - loss: 0.0185 - accuracy: 0.9942 - val_loss: 0.0942 - val_accuracy: 0.9814\n",
      "Epoch 15/15\n",
      "938/938 [==============================] - 5s 5ms/step - loss: 0.0153 - accuracy: 0.9953 - val_loss: 0.0894 - val_accuracy: 0.9811\n"
     ]
    }
   ],
   "source": [
    "#Train the model on the training data, while monitoring the performance on the test data\n",
    "history = model.fit(X_train, Y_train, \n",
    "                    batch_size=64,\n",
    "                    epochs=15,\n",
    "                    validation_data=(X_test, Y_test))"
   ]
  },
  {
   "cell_type": "markdown",
   "id": "bb745291-2524-4842-9495-2c77bc9c16e9",
   "metadata": {},
   "source": [
    "## Step 4: Evaluate the Model's Performance On the Test Set\n",
    "As stated before, it is important to evaluate the model's performance on the test set to have some quantitative measure of its performance, as well as to make sure it isn't overfitting. Here we evaluate using the `evaluate()` method of the `Sequential` class as well as the training history we obtained above."
   ]
  },
  {
   "cell_type": "code",
   "execution_count": 6,
   "id": "c81febda-b721-4e0e-b932-71c964bff442",
   "metadata": {},
   "outputs": [
    {
     "name": "stdout",
     "output_type": "stream",
     "text": [
      "313/313 [==============================] - 0s 1ms/step - loss: 0.0894 - accuracy: 0.9811\n",
      "\n",
      "Test loss: 0.08941540122032166\n",
      "Test accuracy: 0.9811000227928162\n"
     ]
    },
    {
     "data": {
      "image/png": "[encoded data removed]",
      "text/plain": [
       "<Figure size 432x288 with 1 Axes>"
      ]
     },
     "metadata": {
      "needs_background": "light"
     },
     "output_type": "display_data"
    },
    {
     "data": {
      "image/png": "[encoded data removed]",
      "text/plain": [
       "<Figure size 432x288 with 1 Axes>"
      ]
     },
     "metadata": {
      "needs_background": "light"
     },
     "output_type": "display_data"
    }
   ],
   "source": [
    "# Evaluate model's performance on test set\n",
    "score = model.evaluate(X_test, Y_test, verbose=1)\n",
    "print()\n",
    "print('Test loss:', score[0])\n",
    "print('Test accuracy:', score[1])\n",
    "\n",
    "# Summarize history of accuracy during training\n",
    "plt.plot(history.history['accuracy'])\n",
    "plt.plot(history.history['val_accuracy'])\n",
    "plt.ylabel('Model Accuracy')\n",
    "plt.xlabel('Training Epoch')\n",
    "plt.legend(['Train', 'Test'], loc = 'best')\n",
    "plt.show()\n",
    "\n",
    "# Summarize history for loss\n",
    "plt.plot(history.history['loss'])\n",
    "plt.plot(history.history['val_loss'])\n",
    "plt.ylabel('Model Loss')\n",
    "plt.xlabel('Training Epoch')\n",
    "plt.legend(['Train', 'Test'], loc = 'best')\n",
    "plt.show()"
   ]
  },
  {
   "cell_type": "markdown",
   "id": "5e521e89-124e-4fc3-8eed-f58a1202c549",
   "metadata": {},
   "source": [
    "We can see from the top plot that the model identifies the digits in the test set with 98% accuracy after training. Looking at the bottom plot, we can see that the model's performance on the test set begins to get worse (higher loss) after about 5 training epochs. This means that after this point, our model has stopped learning the differences between each digit, and is instead starting to overfit and learn the noise in the dataset. In the future, training should be cut off after this point."
   ]
  },
  {
   "cell_type": "markdown",
   "id": "0115724c-19eb-4c8b-9eee-8afd27b11c40",
   "metadata": {},
   "source": [
    "## Step 5: Modify the Model to Optimize Performance\n",
    "98% accuracy is fine, but not ideal. Some models are capable of 99.8% accurate predictions on the MNIST dataset without overfitting (https://github.com/Matuzas77/MNIST-0.17)! In order to push the boundaries of a given architecture's performance, one does not simply train the model for a longer time (as we saw above, that can be very bad!). Instead, things like the overall shape of the model architecture, the optimization routine, the activation functions of the layers, and other *hyperparameters* of the model are modified in order to optimize the performance on the test set. This process is known as *hyperparameter tuning*.\n",
    "\n",
    "There are many great hyperparameter tuning algortihms (I like KerasTuner https://keras.io/keras_tuner/ for big tasks or scikit-learn's GridSearchCV https://scikit-learn.org/stable/modules/generated/sklearn.model_selection.GridSearchCV.html for small ones), but they all rely on the same basic structure. They all broadly take some function as input that generates a compiled model given some hyperparameters as arguments. Below, we make a function that does just that (`compile_model`) that takes as input the optimizer we want to compile our model with. Then, we manually set up the parameter space we'll be searching over by specifying a bunch of possible `optimizers`. Finally, we generate and train a model that uses each optimizer while saving the results in `loss_results` in order to determine the best optimizer for the task!"
   ]
  },
  {
   "cell_type": "code",
   "execution_count": 7,
   "id": "28fdf144-89ac-4f6a-acd9-44d4e6c24428",
   "metadata": {},
   "outputs": [
    {
     "name": "stdout",
     "output_type": "stream",
     "text": [
      "Optimizer SGD\n",
      "Epoch 1/5\n",
      "938/938 [==============================] - 3s 3ms/step - loss: 1.4433 - accuracy: 0.5492 - val_loss: 0.4254 - val_accuracy: 0.8922\n",
      "Epoch 2/5\n",
      "938/938 [==============================] - 3s 4ms/step - loss: 0.5517 - accuracy: 0.8418 - val_loss: 0.3187 - val_accuracy: 0.9135\n",
      "Epoch 3/5\n",
      "938/938 [==============================] - 5s 5ms/step - loss: 0.4319 - accuracy: 0.8765 - val_loss: 0.2716 - val_accuracy: 0.9239\n",
      "Epoch 4/5\n",
      "938/938 [==============================] - 5s 5ms/step - loss: 0.3717 - accuracy: 0.8950 - val_loss: 0.2425 - val_accuracy: 0.9309\n",
      "Epoch 5/5\n",
      "938/938 [==============================] - 4s 5ms/step - loss: 0.3309 - accuracy: 0.9048 - val_loss: 0.2215 - val_accuracy: 0.9360\n",
      "Optimizer RMSprop\n",
      "Epoch 1/5\n",
      "938/938 [==============================] - 7s 7ms/step - loss: 0.5049 - accuracy: 0.8487 - val_loss: 0.1295 - val_accuracy: 0.9610\n",
      "Epoch 2/5\n",
      "938/938 [==============================] - 7s 7ms/step - loss: 0.1378 - accuracy: 0.9617 - val_loss: 0.1061 - val_accuracy: 0.9706\n",
      "Epoch 3/5\n",
      "938/938 [==============================] - 7s 8ms/step - loss: 0.1008 - accuracy: 0.9722 - val_loss: 0.1004 - val_accuracy: 0.9753\n",
      "Epoch 4/5\n",
      "938/938 [==============================] - 7s 8ms/step - loss: 0.0909 - accuracy: 0.9773 - val_loss: 0.1044 - val_accuracy: 0.9757\n",
      "Epoch 5/5\n",
      "938/938 [==============================] - 7s 8ms/step - loss: 0.0791 - accuracy: 0.9781 - val_loss: 0.1146 - val_accuracy: 0.9756\n",
      "Optimizer Adagrad\n",
      "Epoch 1/5\n",
      "938/938 [==============================] - 6s 6ms/step - loss: 1.9389 - accuracy: 0.3528 - val_loss: 0.9517 - val_accuracy: 0.8241\n",
      "Epoch 2/5\n",
      "938/938 [==============================] - 5s 5ms/step - loss: 1.0186 - accuracy: 0.7113 - val_loss: 0.6029 - val_accuracy: 0.8715\n",
      "Epoch 3/5\n",
      "938/938 [==============================] - 5s 5ms/step - loss: 0.7610 - accuracy: 0.7851 - val_loss: 0.4827 - val_accuracy: 0.8895\n",
      "Epoch 4/5\n",
      "938/938 [==============================] - 5s 5ms/step - loss: 0.6477 - accuracy: 0.8153 - val_loss: 0.4222 - val_accuracy: 0.8971\n",
      "Epoch 5/5\n",
      "938/938 [==============================] - 5s 5ms/step - loss: 0.5808 - accuracy: 0.8345 - val_loss: 0.3853 - val_accuracy: 0.9029\n",
      "Optimizer Adam\n",
      "Epoch 1/5\n",
      "938/938 [==============================] - 5s 5ms/step - loss: 0.5345 - accuracy: 0.8387 - val_loss: 0.1231 - val_accuracy: 0.9626\n",
      "Epoch 2/5\n",
      "938/938 [==============================] - 5s 5ms/step - loss: 0.1374 - accuracy: 0.9614 - val_loss: 0.0904 - val_accuracy: 0.9707\n",
      "Epoch 3/5\n",
      "938/938 [==============================] - 5s 5ms/step - loss: 0.0945 - accuracy: 0.9729 - val_loss: 0.0768 - val_accuracy: 0.9783\n",
      "Epoch 4/5\n",
      "938/938 [==============================] - 5s 5ms/step - loss: 0.0674 - accuracy: 0.9807 - val_loss: 0.0696 - val_accuracy: 0.9792\n",
      "Epoch 5/5\n",
      "938/938 [==============================] - 5s 5ms/step - loss: 0.0556 - accuracy: 0.9824 - val_loss: 0.0678 - val_accuracy: 0.9819\n",
      "Optimizer Adamax\n",
      "Epoch 1/5\n",
      "938/938 [==============================] - 5s 5ms/step - loss: 0.7223 - accuracy: 0.7839 - val_loss: 0.1859 - val_accuracy: 0.9437\n",
      "Epoch 2/5\n",
      "938/938 [==============================] - 5s 5ms/step - loss: 0.2371 - accuracy: 0.9337 - val_loss: 0.1313 - val_accuracy: 0.9600\n",
      "Epoch 3/5\n",
      "938/938 [==============================] - 5s 5ms/step - loss: 0.1715 - accuracy: 0.9524 - val_loss: 0.1052 - val_accuracy: 0.9673\n",
      "Epoch 4/5\n",
      "938/938 [==============================] - 5s 5ms/step - loss: 0.1345 - accuracy: 0.9619 - val_loss: 0.0932 - val_accuracy: 0.9703\n",
      "Epoch 5/5\n",
      "938/938 [==============================] - 5s 5ms/step - loss: 0.1144 - accuracy: 0.9671 - val_loss: 0.0802 - val_accuracy: 0.9745\n",
      "Optimizer Nadam\n",
      "Epoch 1/5\n",
      "938/938 [==============================] - 9s 9ms/step - loss: 0.5376 - accuracy: 0.8364 - val_loss: 0.1241 - val_accuracy: 0.9609\n",
      "Epoch 2/5\n",
      "938/938 [==============================] - 9s 9ms/step - loss: 0.1363 - accuracy: 0.9615 - val_loss: 0.0910 - val_accuracy: 0.9713\n",
      "Epoch 3/5\n",
      "938/938 [==============================] - 9s 9ms/step - loss: 0.0911 - accuracy: 0.9731 - val_loss: 0.0780 - val_accuracy: 0.9747\n",
      "Epoch 4/5\n",
      "938/938 [==============================] - 9s 10ms/step - loss: 0.0683 - accuracy: 0.9795 - val_loss: 0.0752 - val_accuracy: 0.9768\n",
      "Epoch 5/5\n",
      "938/938 [==============================] - 9s 9ms/step - loss: 0.0547 - accuracy: 0.9835 - val_loss: 0.0709 - val_accuracy: 0.9791\n"
     ]
    },
    {
     "data": {
      "image/png": "[encoded data removed]",
      "text/plain": [
       "<Figure size 432x288 with 1 Axes>"
      ]
     },
     "metadata": {
      "needs_background": "light"
     },
     "output_type": "display_data"
    },
    {
     "name": "stdout",
     "output_type": "stream",
     "text": [
      "Optimal Optimizer:  Adam (loss  0.06775456666946411 )\n"
     ]
    }
   ],
   "source": [
    "#Function that automatically creates a model (could make it take arguments such as layer sizes for hyperparameter search)\n",
    "def create_NN():\n",
    "    # instantiate model\n",
    "    model = ks.models.Sequential()\n",
    "    model.add(ks.layers.Flatten(input_shape = (28,28,)))\n",
    "    # Add a fully-connected layer of neurons with RELU activation\n",
    "    model.add(ks.layers.Dense(400, activation = 'relu'))\n",
    "    # Add another fully-connected layer of neurons with RELU activation\n",
    "    model.add(ks.layers.Dense(100, activation = 'relu'))\n",
    "    # Apply a 50% droput rate during training\n",
    "    model.add(ks.layers.Dropout(0.5))\n",
    "    # Add a softmax layer that outputs the predicted class in the shape of the target vectors\n",
    "    model.add(ks.layers.Dense(10, activation = 'softmax'))\n",
    "    return model\n",
    "\n",
    "#Function that automatically compiles a model with a given optimizer (can be string or the optimizer itself)\n",
    "def compile_model(optimizer=ks.optimizers.Adam()):\n",
    "    # Create the model\n",
    "    model = create_NN()\n",
    "    # Compile the model\n",
    "    model.compile(loss=ks.losses.categorical_crossentropy,\n",
    "                  optimizer=optimizer,\n",
    "                  metrics=['accuracy'])\n",
    "    return model\n",
    "\n",
    "#Make the hyperparameters we'll be searching over (in this case optimizers)\n",
    "optimizers = ['SGD', 'RMSprop', 'Adagrad', 'Adam', 'Adamax', 'Nadam']\n",
    "#Stage an array to store search results\n",
    "loss_results = []\n",
    "#Loop over the grid, training a model at each step and storing their performance for later\n",
    "for optimizer in optimizers:\n",
    "    print('Optimizer', optimizer)\n",
    "    model = compile_model(optimizer = optimizer)\n",
    "    history = model.fit(X_train, Y_train, \n",
    "                    batch_size=64,\n",
    "                    epochs=5,\n",
    "                    validation_data=(X_test, Y_test))\n",
    "    loss_results.append(np.min(history.history['val_loss'])) #Grab the smallest loss on the validation set during training\n",
    "plt.bar(optimizers, loss_results)\n",
    "plt.show()\n",
    "print('Optimal Optimizer: ', optimizers[np.argmin(loss_results)], '(loss ', np.min(loss_results), ')')"
   ]
  },
  {
   "cell_type": "markdown",
   "id": "11058f54-b0d2-4219-ab53-e0a74151606d",
   "metadata": {},
   "source": [
    "As we can see above, it looks like using the NAdam can give us a small performance bump over vanilla Adam! However, it seems choosing a new optimizer wasn't enough to get our accuracy above 99%. Sometimes, the thing that needs to be changed in order to improve your model's performance isn't a parameter you're searching over. Looking at the model with a 99.83% accuracy linked above, it seems that the model architect used a Convolutional Neural Network (CNN) instead of the fully connected architecture we've been using up until this point. CNNs are well suited to two dimensional data like images, as they preserve the dimensionality of their inputs (removing the need for the `Flatten()` layer we've included in our functions so far). Let's try out a CNN!\n",
    "\n",
    "Keras supports CNN architectures through a couple of layers, namely the `Conv2D()` and `MaxPooling2D()` layers. The exact mechanisms of each layer are outside the scope of this tutorial, but `Conv2D()` is essentially a 2D version of the `Dense()` layers we've worked with so far, and `MaxPooling2D()` shrinks the output of the `Conv2D()` layer to reduce the computational load during training. We add two of each layer together with a `Dropout()` layer, then `Flatten()` the output of the 2D layers and finish with `Dense()` layers. This model compiles and trains just like the `Sequential` models we've been using so far."
   ]
  },
  {
   "cell_type": "code",
   "execution_count": 40,
   "id": "9a1a23f1-753e-4f84-85d8-a1f5230aec64",
   "metadata": {},
   "outputs": [
    {
     "name": "stdout",
     "output_type": "stream",
     "text": [
      "Epoch 1/10\n",
      "938/938 [==============================] - 17s 18ms/step - loss: 0.5381 - accuracy: 0.8285 - val_loss: 0.0773 - val_accuracy: 0.9833\n",
      "Epoch 2/10\n",
      "938/938 [==============================] - 22s 24ms/step - loss: 0.1008 - accuracy: 0.9686 - val_loss: 0.0593 - val_accuracy: 0.9873\n",
      "Epoch 3/10\n",
      "938/938 [==============================] - 21s 23ms/step - loss: 0.0744 - accuracy: 0.9771 - val_loss: 0.0469 - val_accuracy: 0.9883\n",
      "Epoch 4/10\n",
      "938/938 [==============================] - 21s 23ms/step - loss: 0.0631 - accuracy: 0.9816 - val_loss: 0.0368 - val_accuracy: 0.9918\n",
      "Epoch 5/10\n",
      "938/938 [==============================] - 22s 24ms/step - loss: 0.0521 - accuracy: 0.9832 - val_loss: 0.0383 - val_accuracy: 0.9902\n",
      "Epoch 6/10\n",
      "938/938 [==============================] - 22s 24ms/step - loss: 0.0517 - accuracy: 0.9838 - val_loss: 0.0353 - val_accuracy: 0.9917\n",
      "Epoch 7/10\n",
      "938/938 [==============================] - 21s 23ms/step - loss: 0.0436 - accuracy: 0.9860 - val_loss: 0.0374 - val_accuracy: 0.9916\n",
      "Epoch 8/10\n",
      "938/938 [==============================] - 22s 23ms/step - loss: 0.0423 - accuracy: 0.9862 - val_loss: 0.0308 - val_accuracy: 0.9917\n",
      "Epoch 9/10\n",
      "938/938 [==============================] - 20s 21ms/step - loss: 0.0391 - accuracy: 0.9874 - val_loss: 0.0287 - val_accuracy: 0.9908\n",
      "Epoch 10/10\n",
      "938/938 [==============================] - 20s 22ms/step - loss: 0.0371 - accuracy: 0.9883 - val_loss: 0.0291 - val_accuracy: 0.9924\n",
      "313/313 [==============================] - 2s 6ms/step - loss: 0.0291 - accuracy: 0.9924\n",
      "\n",
      "Test loss: 0.029116589576005936\n",
      "Test accuracy: 0.9923999905586243\n"
     ]
    }
   ],
   "source": [
    "\n",
    "X_train_CNN = X_train.reshape(X_train.shape[0], 28, 28, 1)\n",
    "X_test_CNN = X_test.reshape(X_test.shape[0], 28, 28, 1)\n",
    "input_shape = (28, 28, 1,)\n",
    "\n",
    "# instantiate model\n",
    "model_CNN = ks.models.Sequential()\n",
    "# add first convolutional layer with 10 filters (dimensionality of output space)\n",
    "model_CNN.add(ks.layers.Conv2D(10, kernel_size = (5, 5),\n",
    "                               activation = 'relu',\n",
    "                               input_shape = input_shape))\n",
    "# add 2D pooling layer\n",
    "model_CNN.add(ks.layers.MaxPooling2D(pool_size = (2, 2)))\n",
    "# add second convolutional layer with 20 filters\n",
    "model_CNN.add(ks.layers.Conv2D(20, (5, 5), activation = 'relu'))\n",
    "# apply dropout with rate 0.5\n",
    "model_CNN.add(ks.layers.Dropout(0.5))\n",
    "# add 2D pooling layer\n",
    "model_CNN.add(ks.layers.MaxPooling2D(pool_size = (2, 2)))\n",
    "# flatten data\n",
    "model_CNN.add(ks.layers.Flatten())\n",
    "# add a dense all-to-all relu layer\n",
    "model_CNN.add(ks.layers.Dense(20*4*4, activation = 'relu'))\n",
    "# apply dropout with rate 0.5\n",
    "model_CNN.add(ks.layers.Dropout(0.5))\n",
    "# soft-max layer\n",
    "model_CNN.add(ks.layers.Dense(10, activation = 'softmax'))\n",
    "\n",
    "# compile the model\n",
    "model_CNN.compile(loss=ks.losses.categorical_crossentropy, optimizer = 'Adam', metrics = ['accuracy'])\n",
    "\n",
    "# train CNN\n",
    "model_CNN.fit(X_train_CNN, Y_train, \n",
    "              batch_size = 64, \n",
    "              epochs = 10,\n",
    "              validation_data = (X_test_CNN, Y_test))\n",
    "\n",
    "# evaliate model\n",
    "score = model_CNN.evaluate(X_test_CNN, Y_test, verbose = 1)\n",
    "\n",
    "# print performance\n",
    "print()\n",
    "print('Test loss:', score[0])\n",
    "print('Test accuracy:', score[1])"
   ]
  },
  {
   "cell_type": "markdown",
   "id": "8cbc9299-6b2c-47a8-8c9e-e39dfde14952",
   "metadata": {},
   "source": [
    "And would you look at that, a >99% accuracy rate! Seems like what we really needed to do was use a more suitable architecture for the problem. "
   ]
  }
 ],
 "metadata": {
  "kernelspec": {
   "display_name": "Python 3",
   "language": "python",
   "name": "python3"
  },
  "language_info": {
   "codemirror_mode": {
    "name": "ipython",
    "version": 3
   },
   "file_extension": ".py",
   "mimetype": "text/x-python",
   "name": "python",
   "nbconvert_exporter": "python",
   "pygments_lexer": "ipython3",
   "version": "3.7.4"
  },
  "toc-autonumbering": false,
  "toc-showcode": true,
  "toc-showmarkdowntxt": false,
  "toc-showtags": false
 },
 "nbformat": 4,
 "nbformat_minor": 5
}
